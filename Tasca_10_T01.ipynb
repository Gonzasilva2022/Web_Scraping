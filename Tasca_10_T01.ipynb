{
 "cells": [
  {
   "cell_type": "markdown",
   "id": "c8ee3070",
   "metadata": {},
   "source": [
    "## <div style=\"background-color: #BAE3BC; padding: 10px;\"><b>Exercicis de Web Scraping.</b>\n",
    "\n",
    "</div>"
   ]
  },
  {
   "cell_type": "markdown",
   "id": "0498ddfb",
   "metadata": {},
   "source": [
    "- ### Exercici 1\n",
    "\n",
    "Realitza web scraping de dues de les tres pàgines web proposades utilitzant BeautifulSoup primer i Selenium després. \n",
    "\n",
    "- http://quotes.toscrape.com\n",
    "\n",
    "- https://www.bolsamadrid.es\n",
    "\n",
    "- www.wikipedia.es (fes alguna cerca primer i escrapeja algun contingut)"
   ]
  },
  {
   "cell_type": "markdown",
   "id": "8b844bbf",
   "metadata": {},
   "source": [
    "Triarem fer l'scraping de \"Quotes to Scraping\" i de \"Wikipedia\". Començarem per la pàgina web \"http://quotes.toscrape.com\""
   ]
  },
  {
   "cell_type": "code",
   "execution_count": 1,
   "id": "a82e2058",
   "metadata": {},
   "outputs": [],
   "source": [
    "import numpy as np\n",
    "import pandas as pd\n",
    "import requests\n",
    "from bs4 import BeautifulSoup"
   ]
  },
  {
   "cell_type": "markdown",
   "id": "ecd376da",
   "metadata": {},
   "source": [
    "### 1. Scraping amb Beautiful Soup - http://quotes.toscrape.com"
   ]
  },
  {
   "cell_type": "markdown",
   "id": "0c45cddf",
   "metadata": {},
   "source": [
    "Primer de tot, explorarem la web."
   ]
  },
  {
   "cell_type": "code",
   "execution_count": 2,
   "id": "4051705c",
   "metadata": {},
   "outputs": [],
   "source": [
    "URL = \"http://quotes.toscrape.com\"\n",
    "page = requests.get(URL)\n",
    "\n",
    "#print(page.text)\n"
   ]
  },
  {
   "cell_type": "markdown",
   "id": "52b2c0d0",
   "metadata": {},
   "source": [
    "Una altre manera de comprovar que la nostra sol·licitud per accedir a les dades de la pàgina web hagi estat satisfactòria, és a través del codi d'estat.\n",
    "\n",
    "- Si ens dona \"200\" esta tot \"*ok*\".\n",
    "- Si ens dona \"404\" és que hi ha \"*Not found*\".\n",
    "- Si ens dona \"500\" és que hi ha \"*several internal error*\"."
   ]
  },
  {
   "cell_type": "code",
   "execution_count": 3,
   "id": "ec67d55b",
   "metadata": {},
   "outputs": [
    {
     "data": {
      "text/plain": [
       "200"
      ]
     },
     "execution_count": 3,
     "metadata": {},
     "output_type": "execute_result"
    }
   ],
   "source": [
    "page.status_code"
   ]
  },
  {
   "cell_type": "markdown",
   "id": "4bb8d1f7",
   "metadata": {},
   "source": [
    "Ara crearem un objecte Beautiful Soup i li pasarem dos arguments (content i html.parser). Passarem de text a content per evitar problemes amb la codificació de caràcters. D'una altre banda posarem html.parser per assegurar-nos de fer servir l'analitzador adequat per al contingut HTML."
   ]
  },
  {
   "cell_type": "code",
   "execution_count": 4,
   "id": "6fa7e8f9",
   "metadata": {},
   "outputs": [],
   "source": [
    "soup = BeautifulSoup(page.content, \"html.parser\")\n",
    "results = soup.find(class_='container')"
   ]
  },
  {
   "cell_type": "markdown",
   "id": "67a8c279",
   "metadata": {},
   "source": [
    "Una manera de mostrar el contingut de la web de manera més clara posant tota la info dins del <div> és fer-ho a través d'un *prettify*."
   ]
  },
  {
   "cell_type": "code",
   "execution_count": 5,
   "id": "77130453",
   "metadata": {},
   "outputs": [],
   "source": [
    "#print(results.prettify())"
   ]
  },
  {
   "cell_type": "markdown",
   "id": "e75dd203",
   "metadata": {},
   "source": [
    "Farem servir novament el *find*, però ara amb una cerca específica del títol de tot el contingut de la web."
   ]
  },
  {
   "cell_type": "code",
   "execution_count": 6,
   "id": "8ab3a2c2",
   "metadata": {},
   "outputs": [
    {
     "name": "stdout",
     "output_type": "stream",
     "text": [
      "Quotes to Scrape\n"
     ]
    }
   ],
   "source": [
    "print(soup.find('title').string)"
   ]
  },
  {
   "cell_type": "markdown",
   "id": "2e15eb93",
   "metadata": {},
   "source": [
    "Continuarem buscant les class quote a través de totes les div on es trobi continguda. Així podrem saber quantes cites hi han a la primera pàgina de la web."
   ]
  },
  {
   "cell_type": "code",
   "execution_count": 7,
   "id": "8be9f228",
   "metadata": {},
   "outputs": [
    {
     "data": {
      "text/plain": [
       "10"
      ]
     },
     "execution_count": 7,
     "metadata": {},
     "output_type": "execute_result"
    }
   ],
   "source": [
    "quotes_n = results.find_all(\"div\", class_=\"quote\", itemscope=\"\")\n",
    "len(quotes_n)"
   ]
  },
  {
   "cell_type": "markdown",
   "id": "48e33f64",
   "metadata": {},
   "source": [
    "A continuació farem un bucle sobre l'informació d'interés dins dels elements de les *quotes*, és a dir, extraurem el \"Text\", \"l'Autor\" i les seves paraules clau o \"Tags\"."
   ]
  },
  {
   "cell_type": "code",
   "execution_count": 8,
   "id": "04ac7a72",
   "metadata": {},
   "outputs": [
    {
     "name": "stdout",
     "output_type": "stream",
     "text": [
      "“The world as we have created it is a process of our thinking. It cannot be changed without changing our thinking.”\n",
      "Albert Einstein\n",
      "Tags:\n",
      "            \n",
      "change\n",
      "deep-thoughts\n",
      "thinking\n",
      "world\n",
      "\n",
      "“It is our choices, Harry, that show what we truly are, far more than our abilities.”\n",
      "J.K. Rowling\n",
      "Tags:\n",
      "            \n",
      "abilities\n",
      "choices\n",
      "\n",
      "“There are only two ways to live your life. One is as though nothing is a miracle. The other is as though everything is a miracle.”\n",
      "Albert Einstein\n",
      "Tags:\n",
      "            \n",
      "inspirational\n",
      "life\n",
      "live\n",
      "miracle\n",
      "miracles\n",
      "\n",
      "“The person, be it gentleman or lady, who has not pleasure in a good novel, must be intolerably stupid.”\n",
      "Jane Austen\n",
      "Tags:\n",
      "            \n",
      "aliteracy\n",
      "books\n",
      "classic\n",
      "humor\n",
      "\n",
      "“Imperfection is beauty, madness is genius and it's better to be absolutely ridiculous than absolutely boring.”\n",
      "Marilyn Monroe\n",
      "Tags:\n",
      "            \n",
      "be-yourself\n",
      "inspirational\n",
      "\n",
      "“Try not to become a man of success. Rather become a man of value.”\n",
      "Albert Einstein\n",
      "Tags:\n",
      "            \n",
      "adulthood\n",
      "success\n",
      "value\n",
      "\n",
      "“It is better to be hated for what you are than to be loved for what you are not.”\n",
      "André Gide\n",
      "Tags:\n",
      "            \n",
      "life\n",
      "love\n",
      "\n",
      "“I have not failed. I've just found 10,000 ways that won't work.”\n",
      "Thomas A. Edison\n",
      "Tags:\n",
      "            \n",
      "edison\n",
      "failure\n",
      "inspirational\n",
      "paraphrased\n",
      "\n",
      "“A woman is like a tea bag; you never know how strong it is until it's in hot water.”\n",
      "Eleanor Roosevelt\n",
      "Tags:\n",
      "            \n",
      "misattributed-eleanor-roosevelt\n",
      "\n",
      "“A day without sunshine is like, you know, night.”\n",
      "Steve Martin\n",
      "Tags:\n",
      "            \n",
      "humor\n",
      "obvious\n",
      "simile\n",
      "\n"
     ]
    }
   ],
   "source": [
    "for quote_n in quotes_n:\n",
    "    cita = quote_n.find(\"span\", class_=\"text\")\n",
    "    autor = quote_n.find(\"small\", class_=\"author\")\n",
    "    p_clau = quote_n.find(\"div\", class_=\"tags\")\n",
    "    print(cita.text.strip())\n",
    "    print(autor.text.strip())\n",
    "    print(p_clau.text.strip())\n",
    "    print()"
   ]
  },
  {
   "cell_type": "markdown",
   "id": "75b737c5",
   "metadata": {},
   "source": [
    "### 1.2 Scraping amb Selenium - http://quotes.toscrape.com"
   ]
  },
  {
   "cell_type": "code",
   "execution_count": 9,
   "id": "ceb6fe8b",
   "metadata": {},
   "outputs": [],
   "source": [
    "from selenium import webdriver\n",
    "from selenium.webdriver.common.keys import Keys\n",
    "from selenium.webdriver.common.by import By"
   ]
  },
  {
   "cell_type": "markdown",
   "id": "d41e398b",
   "metadata": {},
   "source": [
    "- 1 Amb *Selenium* primer de tot hem de posar el navegador que farem servir.\n",
    "- 2 Després, obtindrem la direcció URL. \n",
    "- 3 I finalment crearem objectes on posarem els elements volem obtenir."
   ]
  },
  {
   "cell_type": "code",
   "execution_count": 10,
   "id": "f3b5330a",
   "metadata": {},
   "outputs": [],
   "source": [
    "#1\n",
    "driver = webdriver.Chrome()\n",
    "\n",
    "#2\n",
    "driver.get(\"http://quotes.toscrape.com/\")\n",
    "\n",
    "#3\n",
    "cites = driver.find_elements(By.CLASS_NAME, \"text\")\n",
    "autors = driver.find_elements(By.CLASS_NAME, \"author\")\n",
    "p_claus = driver.find_elements(By.CLASS_NAME, \"tags\")\n"
   ]
  },
  {
   "cell_type": "markdown",
   "id": "a06e5007",
   "metadata": {},
   "source": [
    "A continuació farem un bucle on recorrerem cada *quote* de la web i així obtindrem totes les cites."
   ]
  },
  {
   "cell_type": "code",
   "execution_count": 11,
   "id": "38eb59e3",
   "metadata": {},
   "outputs": [
    {
     "name": "stdout",
     "output_type": "stream",
     "text": [
      "“The world as we have created it is a process of our thinking. It cannot be changed without changing our thinking.”\n",
      "“It is our choices, Harry, that show what we truly are, far more than our abilities.”\n",
      "“There are only two ways to live your life. One is as though nothing is a miracle. The other is as though everything is a miracle.”\n",
      "“The person, be it gentleman or lady, who has not pleasure in a good novel, must be intolerably stupid.”\n",
      "“Imperfection is beauty, madness is genius and it's better to be absolutely ridiculous than absolutely boring.”\n",
      "“Try not to become a man of success. Rather become a man of value.”\n",
      "“It is better to be hated for what you are than to be loved for what you are not.”\n",
      "“I have not failed. I've just found 10,000 ways that won't work.”\n",
      "“A woman is like a tea bag; you never know how strong it is until it's in hot water.”\n",
      "“A day without sunshine is like, you know, night.”\n"
     ]
    }
   ],
   "source": [
    "for cita_n in cites:\n",
    "    cita_n = cita_n.text.strip()\n",
    "    print(cita_n)"
   ]
  },
  {
   "cell_type": "markdown",
   "id": "ac0d7b4f",
   "metadata": {},
   "source": [
    "Ara farem el mateix però amb els autors. "
   ]
  },
  {
   "cell_type": "code",
   "execution_count": 12,
   "id": "48521463",
   "metadata": {},
   "outputs": [
    {
     "name": "stdout",
     "output_type": "stream",
     "text": [
      "Albert Einstein\n",
      "J.K. Rowling\n",
      "Albert Einstein\n",
      "Jane Austen\n",
      "Marilyn Monroe\n",
      "Albert Einstein\n",
      "André Gide\n",
      "Thomas A. Edison\n",
      "Eleanor Roosevelt\n",
      "Steve Martin\n"
     ]
    }
   ],
   "source": [
    "for autor_n in autors:\n",
    "    autor_n = autor_n.text.strip()\n",
    "    print(autor_n)"
   ]
  },
  {
   "cell_type": "markdown",
   "id": "b2a6e2c3",
   "metadata": {},
   "source": [
    "I per acabar extraurem les paraules clau:"
   ]
  },
  {
   "cell_type": "code",
   "execution_count": 13,
   "id": "7a9cac33",
   "metadata": {},
   "outputs": [
    {
     "name": "stdout",
     "output_type": "stream",
     "text": [
      "Tags: change deep-thoughts thinking world\n",
      "Tags: abilities choices\n",
      "Tags: inspirational life live miracle miracles\n",
      "Tags: aliteracy books classic humor\n",
      "Tags: be-yourself inspirational\n",
      "Tags: adulthood success value\n",
      "Tags: life love\n",
      "Tags: edison failure inspirational paraphrased\n",
      "Tags: misattributed-eleanor-roosevelt\n",
      "Tags: humor obvious simile\n"
     ]
    }
   ],
   "source": [
    "for p_claus_n in p_claus:\n",
    "    p_claus_n = p_claus_n.text.strip()\n",
    "    print(p_claus_n)"
   ]
  },
  {
   "cell_type": "markdown",
   "id": "2ece0836",
   "metadata": {},
   "source": [
    "Tanquem el navegador"
   ]
  },
  {
   "cell_type": "code",
   "execution_count": 14,
   "id": "b83414be",
   "metadata": {},
   "outputs": [],
   "source": [
    "driver.close()"
   ]
  },
  {
   "cell_type": "markdown",
   "id": "0977b983",
   "metadata": {},
   "source": [
    "### 1.3 Wikipedia amb Beautiful Soup - [Wikipedia Valle de la luna](https://es.wikipedia.org/wiki/Valle_de_la_Luna_(Chile))"
   ]
  },
  {
   "cell_type": "markdown",
   "id": "ccbda669",
   "metadata": {},
   "source": [
    "En aquesta oportunitat farem un codi resumit on extraurem el contingut principal dels paràgrafs de la descripció del \"valle de la luna\" segons la Wikipedia. Això ho farem fent servir un condicional que recorrerà tot el procés, des de la crida de la URL fins l'obtenció de les parts del text a través del tag \"p\". A més a més, hem de dir que començarem el codi revisant que la sol·licitud ha estat reeixida."
   ]
  },
  {
   "cell_type": "code",
   "execution_count": 15,
   "id": "72195404",
   "metadata": {},
   "outputs": [
    {
     "name": "stdout",
     "output_type": "stream",
     "text": [
      "El valle de la Luna es un paraje desértico y punto de atracción turística, ubicado en el desierto de Atacama, a 13 km al oeste de San Pedro de Atacama y a 110 km al SE de Calama, perteneciente a la región de Antofagasta. En 1982 fue declarado santuario de la naturaleza y es parte de la reserva nacional Los Flamencos, su ingreso está administrado por la Conaf y es accesible desde San Pedro de Atacama.\n",
      "\n",
      "Junto con el llamado valle de la Muerte, este lugar es único dentro del entorno que rodea la sierra Orbate a 2500 m s. n. m., se trata de una depresión de tamaño relativo de 440 km² de la llamada cordillera de la Sal en la cuenca del salar de Atacama circundado por crestas de 500 m de elevación. Su extensión abarca desde el oeste por la cordillera de Domeyko, por el este por Toconao y Peine por el sur.[1]​\n",
      "\n",
      "Estudios geológicos recientes indican que existió un gran lago o mar interior perimetral en el sector El Tambo entre Toconao y Peine a finales de la Era Terciaria formada por la cuenca hidrográfica del volcán Licancabur cuyos arrastres aluvionales y depósitos de detritos formaron la base de la cordillera de la Sal los cuales se depositaron a partir de una falla tectónica de la Cordillera de Domeyko, que es la base de tan peculiar paisaje. Está conformado por una serie de valles transversales y afloramientos elevados en sentido noroeste en forma de crestas de capas de limolita, yeso, y sal (cloruro de sodio), arcilla y arena conformando rocas sedimentarias de origen paleozoico.[2]​\n",
      "\n",
      "Fue modelado a lo largo de milenios por la erosión fluvial y eólica, las que han tallado su suelo en formas tales como: crestas con puntas, hondonadas, montículos de colores grises y ocres, que le dan esa apariencia lunar tan característica.\n",
      "\n",
      "El valle de la Luna es un sitio que se caracteriza por lo abrupto del quiebre escénico, la belleza escénica de sus colores térreos, el silencio absoluto, la escasez de humedad, flora y fauna, encontrándose solo algunos ejemplares de lagartija de Fabián.\n",
      "\n",
      "El clima es desértico de altura, con una gran oscilación térmica entre el día y la noche, de aproximadamente unos 18 °C.\n",
      "\n",
      "Por la coincidencia entre su aspecto lunar y las referencias posibles de encontrar en la discografía de Pink Floyd, en Chile a mediados de los años 90[3]​ cundió el rumor de que allí se llevaría a cabo un concierto de la banda que antes se había presentado en las ruinas de Pompeya. Este supuesto concierto nunca se planificó, pero subsiste como mito urbano entre los fans locales.\n",
      "\n"
     ]
    }
   ],
   "source": [
    "# sol·licitud http a la web desitjada\"\n",
    "url = \"https://es.wikipedia.org/wiki/Valle_de_la_Luna_(Chile)\"\n",
    "page_wiki = requests.get(url)\n",
    "\n",
    "# Verificació sol·licitud \n",
    "if page_wiki.status_code == 200:\n",
    "    # obtenció contingut HTML\n",
    "    html = page_wiki.content\n",
    "\n",
    "    # Objecte Beautiful Soup per analitzar l'HTML\n",
    "    soup_wiki = BeautifulSoup(html, 'html.parser')\n",
    "\n",
    "    # Cerca contenidor principal\n",
    "    text_principal = soup_wiki.find('div', {'id': 'mw-content-text'})\n",
    "\n",
    "    # Obtenció paràgrafs contingut principal\n",
    "    parts_text = text_principal.find_all('p')\n",
    "\n",
    "    # Imprimir contingut\n",
    "    for part in parts_text:\n",
    "        print(part.get_text())\n",
    "else:\n",
    "    print(\"La sol·licitud no ha estat reeixida.\")"
   ]
  },
  {
   "cell_type": "markdown",
   "id": "fe34cecb",
   "metadata": {},
   "source": [
    "Ara anem a buscar els títols dels paràgrafs anteriors"
   ]
  },
  {
   "cell_type": "code",
   "execution_count": 16,
   "id": "adf9c48b",
   "metadata": {},
   "outputs": [
    {
     "name": "stdout",
     "output_type": "stream",
     "text": [
      "Génesis geológica\n",
      "Características\n",
      "Clima\n",
      "Cultura popular\n",
      "Enlaces externos\n",
      "Véase también\n",
      "Referencias\n"
     ]
    }
   ],
   "source": [
    "titols = [title.get_text().replace(\"[editar]\", \"\") for title in text_principal.find_all('h2')]\n",
    "\n",
    "for titol in titols:\n",
    "    print(titol)"
   ]
  },
  {
   "cell_type": "markdown",
   "id": "c2af0f54",
   "metadata": {},
   "source": [
    "### 1.4 Wikipedia amb Selenium - [Wikipedia Valle de la luna](https://es.wikipedia.org/wiki/Valle_de_la_Luna_(Chile))"
   ]
  },
  {
   "cell_type": "markdown",
   "id": "019dd528",
   "metadata": {},
   "source": [
    "Per trobar l'informació que necessitem però amb la llibreria Selenium, farem servir una estructura similar a la feta amb Beautiful Soup, però per descomptat, utilitzant els mètodes corresponents a aquesta llibreria."
   ]
  },
  {
   "cell_type": "code",
   "execution_count": 17,
   "id": "4f8915a2",
   "metadata": {},
   "outputs": [
    {
     "name": "stdout",
     "output_type": "stream",
     "text": [
      "El valle de la Luna es un paraje desértico y punto de atracción turística, ubicado en el desierto de Atacama, a 13 km al oeste de San Pedro de Atacama y a 110 km al SE de Calama, perteneciente a la región de Antofagasta. En 1982 fue declarado santuario de la naturaleza y es parte de la reserva nacional Los Flamencos, su ingreso está administrado por la Conaf y es accesible desde San Pedro de Atacama.\n",
      "\n",
      "Junto con el llamado valle de la Muerte, este lugar es único dentro del entorno que rodea la sierra Orbate a 2500 m s. n. m., se trata de una depresión de tamaño relativo de 440 km² de la llamada cordillera de la Sal en la cuenca del salar de Atacama circundado por crestas de 500 m de elevación. Su extensión abarca desde el oeste por la cordillera de Domeyko, por el este por Toconao y Peine por el sur.1\n",
      "\n",
      "Estudios geológicos recientes indican que existió un gran lago o mar interior perimetral en el sector El Tambo entre Toconao y Peine a finales de la Era Terciaria formada por la cuenca hidrográfica del volcán Licancabur cuyos arrastres aluvionales y depósitos de detritos formaron la base de la cordillera de la Sal los cuales se depositaron a partir de una falla tectónica de la Cordillera de Domeyko, que es la base de tan peculiar paisaje. Está conformado por una serie de valles transversales y afloramientos elevados en sentido noroeste en forma de crestas de capas de limolita, yeso, y sal (cloruro de sodio), arcilla y arena conformando rocas sedimentarias de origen paleozoico.2\n",
      "\n",
      "Fue modelado a lo largo de milenios por la erosión fluvial y eólica, las que han tallado su suelo en formas tales como: crestas con puntas, hondonadas, montículos de colores grises y ocres, que le dan esa apariencia lunar tan característica.\n",
      "\n",
      "El valle de la Luna es un sitio que se caracteriza por lo abrupto del quiebre escénico, la belleza escénica de sus colores térreos, el silencio absoluto, la escasez de humedad, flora y fauna, encontrándose solo algunos ejemplares de lagartija de Fabián.\n",
      "\n",
      "El clima es desértico de altura, con una gran oscilación térmica entre el día y la noche, de aproximadamente unos 18 °C.\n",
      "\n",
      "Por la coincidencia entre su aspecto lunar y las referencias posibles de encontrar en la discografía de Pink Floyd, en Chile a mediados de los años 903 cundió el rumor de que allí se llevaría a cabo un concierto de la banda que antes se había presentado en las ruinas de Pompeya. Este supuesto concierto nunca se planificó, pero subsiste como mito urbano entre los fans locales.\n",
      "\n"
     ]
    }
   ],
   "source": [
    "# Inicilitzant el controlador\n",
    "driver_wiki = webdriver.Chrome()\n",
    "\n",
    "# navegant a la pàgina web\n",
    "driver_wiki.get(\"https://es.wikipedia.org/wiki/Valle_de_la_Luna_(Chile)\")\n",
    "\n",
    "# Crear objectes per cercar paràgrafs i títols\n",
    "parts_text_wiki = driver_wiki.find_elements(By.TAG_NAME, \"p\")\n",
    "titols_wiki = driver_wiki.find_elements(By.TAG_NAME, \"h2\")\n",
    "\n",
    "# Imprimir el contingut del paràgrafs\n",
    "for part in parts_text_wiki:\n",
    "    print(part.text)\n",
    "    print()"
   ]
  },
  {
   "cell_type": "code",
   "execution_count": 18,
   "id": "c17eb088",
   "metadata": {},
   "outputs": [
    {
     "name": "stdout",
     "output_type": "stream",
     "text": [
      "Contenidos\n",
      "\n",
      "Génesis geológica\n",
      "\n",
      "Características\n",
      "\n",
      "Clima\n",
      "\n",
      "Cultura popular\n",
      "\n",
      "Enlaces externos\n",
      "\n",
      "Véase también\n",
      "\n",
      "Referencias\n",
      "\n"
     ]
    }
   ],
   "source": [
    "for titol in titols_wiki:\n",
    "    print(titol.text.replace(\"[editar]\", \"\"))\n",
    "    print()"
   ]
  },
  {
   "cell_type": "code",
   "execution_count": 19,
   "id": "b4116fb6",
   "metadata": {},
   "outputs": [],
   "source": [
    "# Tancant el controlador de selenium\n",
    "driver.quit()"
   ]
  },
  {
   "cell_type": "markdown",
   "id": "50cea019",
   "metadata": {},
   "source": [
    "- ### Exercici 2\n",
    "\n",
    "Documenta en un Word el teu conjunt de dades generat amb la informació que tenen els diferents arxius de Kaggle.\n",
    "\n",
    "[Kaggel datasets Football](https://www.kaggle.com/datasets/vivovinco/20212022-football-team-stats)"
   ]
  },
  {
   "cell_type": "markdown",
   "id": "e18a57a0",
   "metadata": {},
   "source": [
    "*Títol*: Quotes to Scrape\n",
    "\n",
    "*Context*:\n",
    "\n",
    "“Quotes to Scrape” és un lloc de la web que serveix per practicar web scraping. La web conté cites de gent molt reconeguda. Aquestes cites porten el nom de qui les ha dit i també paraules clau que se extreuen directament de la mateixa cita.\n",
    "\n",
    "*Contingut del dataset*:\n",
    "\n",
    "1.\t10 cites de persones molt reconegudes\n",
    "2.\tNom de l’autor\n",
    "3.\tParaules clau\n",
    "---------------------------------------------------------------------------------------------------------------------------\n",
    "*Títol*: Wikipedia – Valle de la Luna (Chile)\n",
    "\n",
    "*Context*:\n",
    "\n",
    "“Wikipedia” és una enciclopèdia lliure, políglota i editada de manera col·laborativa. És adminstrada per la fundació Wikimedia, una organització sense ànim de lucre el finançament del qual està basada en donacions.\n",
    "\n",
    "Dins d’aquest lloc web s’ha fet una cerca d’un dels llocs més turístics de Xile, “El Valle de la Luna”. A conitnuació es descriuré l’scraping fet amb els resultats obtinguts.\n",
    "\n",
    "*Contingut del dataset*:\n",
    "\n",
    "1.\tText introductori + text de les diferents característiques del Valle de la Luna. Contingut en general.\n",
    "\n",
    "2.\tEls títols del contingut:\n",
    "\n",
    "- Gènesi Geològica\n",
    "- Característiques\n",
    "- Clima\n",
    "- Cultura popular\n",
    "- S’hi afegeixen els títols (sense contingut) de: Enllaços externs -  Vegeu També - Referències\n",
    "---------------------------------------------------------------------------------------------------------------------------\n",
    "*Data de creació dels datasets*:\n",
    "08/06/2023\n",
    "\n",
    "*Hora de l’extracció*:\n",
    "19:45 pm\n"
   ]
  },
  {
   "cell_type": "code",
   "execution_count": null,
   "id": "2cfd0015",
   "metadata": {},
   "outputs": [],
   "source": []
  }
 ],
 "metadata": {
  "kernelspec": {
   "display_name": "Python 3 (ipykernel)",
   "language": "python",
   "name": "python3"
  },
  "language_info": {
   "codemirror_mode": {
    "name": "ipython",
    "version": 3
   },
   "file_extension": ".py",
   "mimetype": "text/x-python",
   "name": "python",
   "nbconvert_exporter": "python",
   "pygments_lexer": "ipython3",
   "version": "3.9.12"
  },
  "latex_envs": {
   "LaTeX_envs_menu_present": true,
   "autoclose": false,
   "autocomplete": true,
   "bibliofile": "biblio.bib",
   "cite_by": "apalike",
   "current_citInitial": 1,
   "eqLabelWithNumbers": true,
   "eqNumInitial": 1,
   "hotkeys": {
    "equation": "Ctrl-E",
    "itemize": "Ctrl-I"
   },
   "labels_anchors": false,
   "latex_user_defs": false,
   "report_style_numbering": false,
   "user_envs_cfg": false
  }
 },
 "nbformat": 4,
 "nbformat_minor": 5
}
